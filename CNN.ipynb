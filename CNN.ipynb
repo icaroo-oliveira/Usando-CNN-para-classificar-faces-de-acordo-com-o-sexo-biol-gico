{
  "cells": [
    {
      "cell_type": "markdown",
      "metadata": {
        "id": "view-in-github",
        "colab_type": "text"
      },
      "source": [
        "<a href=\"https://colab.research.google.com/github/icaroo-oliveira/Usando-CNN-para-classificar-faces-de-acordo-com-o-sexo-biol-gico/blob/main/CNN.ipynb\" target=\"_parent\"><img src=\"https://colab.research.google.com/assets/colab-badge.svg\" alt=\"Open In Colab\"/></a>"
      ]
    },
    {
      "cell_type": "code",
      "execution_count": 70,
      "metadata": {
        "colab": {
          "base_uri": "https://localhost:8080/"
        },
        "id": "1Ny1sbKgWx0D",
        "outputId": "f535eae6-f4a1-4919-acf9-80f12e26e0dd"
      },
      "outputs": [
        {
          "output_type": "stream",
          "name": "stdout",
          "text": [
            "Requirement already satisfied: kaggle in /usr/local/lib/python3.10/dist-packages (1.6.17)\n",
            "Requirement already satisfied: six>=1.10 in /usr/local/lib/python3.10/dist-packages (from kaggle) (1.16.0)\n",
            "Requirement already satisfied: certifi>=2023.7.22 in /usr/local/lib/python3.10/dist-packages (from kaggle) (2024.8.30)\n",
            "Requirement already satisfied: python-dateutil in /usr/local/lib/python3.10/dist-packages (from kaggle) (2.8.2)\n",
            "Requirement already satisfied: requests in /usr/local/lib/python3.10/dist-packages (from kaggle) (2.32.3)\n",
            "Requirement already satisfied: tqdm in /usr/local/lib/python3.10/dist-packages (from kaggle) (4.66.6)\n",
            "Requirement already satisfied: python-slugify in /usr/local/lib/python3.10/dist-packages (from kaggle) (8.0.4)\n",
            "Requirement already satisfied: urllib3 in /usr/local/lib/python3.10/dist-packages (from kaggle) (2.2.3)\n",
            "Requirement already satisfied: bleach in /usr/local/lib/python3.10/dist-packages (from kaggle) (6.2.0)\n",
            "Requirement already satisfied: webencodings in /usr/local/lib/python3.10/dist-packages (from bleach->kaggle) (0.5.1)\n",
            "Requirement already satisfied: text-unidecode>=1.3 in /usr/local/lib/python3.10/dist-packages (from python-slugify->kaggle) (1.3)\n",
            "Requirement already satisfied: charset-normalizer<4,>=2 in /usr/local/lib/python3.10/dist-packages (from requests->kaggle) (3.4.0)\n",
            "Requirement already satisfied: idna<4,>=2.5 in /usr/local/lib/python3.10/dist-packages (from requests->kaggle) (3.10)\n",
            "Dataset URL: https://www.kaggle.com/datasets/arbazkhan971/cuhk-face-sketch-database-cufs\n",
            "License(s): copyright-authors\n",
            "Downloading cuhk-face-sketch-database-cufs.zip to /content\n",
            " 92% 104M/113M [00:01<00:00, 108MB/s] \n",
            "100% 113M/113M [00:01<00:00, 94.1MB/s]\n"
          ]
        }
      ],
      "source": [
        "import os\n",
        "\n",
        "!pip install kaggle\n",
        "!kaggle datasets download -d arbazkhan971/cuhk-face-sketch-database-cufs --force\n",
        "!unzip -oq \"cuhk-face-sketch-database-cufs.zip\"\n",
        "\n",
        "def list_files_in_folder(folder_path):\n",
        "  \"\"\"Lists all files in a given folder.\"\"\"\n",
        "  try:\n",
        "    file_list = os.listdir(folder_path)\n",
        "    return file_list\n",
        "  except FileNotFoundError:\n",
        "    print(f\"Error: Folder not found at {folder_path}\")\n",
        "    return []\n",
        "\n",
        "photos_folder = \"photos\"\n",
        "files_in_photos = list_files_in_folder(photos_folder)"
      ]
    },
    {
      "cell_type": "code",
      "execution_count": 71,
      "metadata": {
        "colab": {
          "base_uri": "https://localhost:8080/"
        },
        "id": "qCj9I4mlWzlv",
        "outputId": "99bdfaf8-baea-4966-feff-50887a659912"
      },
      "outputs": [
        {
          "output_type": "stream",
          "name": "stdout",
          "text": [
            "['f-020-01.jpg', 'f-016-01.jpg', 'm1-021-01.jpg', 'm-021-01.jpg', 'm-009-01.jpg', 'm-045-01.jpg', 'm-074-01.jpg', 'm-076-01.jpg', 'f1-011-01.jpg', 'm1-022-01.jpg', 'f1-009-01.jpg', 'f-017-01.jpg', 'm-055-01.jpg', 'm-031-01.jpg', 'm-093-01.jpg', 'm-037-01.jpg', 'f-007-01.jpg', 'm-094-01.jpg', 'm1-011-01.jpg', 'f1-013-01.jpg', 'm-044-01.jpg', 'f-015-01.jpg', 'm-081-01.jpg', 'f-022-01.jpg', 'm-090-01.jpg', 'm1-014-01.jpg', 'f-032-01.jpg', 'm-030-01.jpg', 'm1-002-01.jpg', 'm-026-01.jpg', 'f1-014-01.jpg', 'f-012-01.jpg', 'f-010-01.jpg', 'm-028-01.jpg', 'm-010-01.jpg', 'f1-008-01.jpg', 'm-100-01.jpg', 'm-099-01.jpg', 'f-034-01.jpg', 'm1-007-01.jpg', 'm-068-01.jpg', 'm-018-01.jpg', 'm1-005-01.jpg', 'm1-027-01.jpg', 'm1-018-01.jpg', 'm1-033-01.jpg', 'm-082-01.jpg', 'm-096-01.jpg', 'm1-031-01.jpg', 'm-058-01.jpg', 'f-027-01.jpg', 'm1-006-01.jpg', 'm-095-01.jpg', 'f-026-01.jpg', 'f-037-01.jpg', 'm-069-01.jpg', 'm-091-01.jpg', 'm-036-01.jpg', 'm-089-01.jpg', 'm1-034-01.jpg', 'f-011-01.jpg', 'm1-026-01.jpg', 'm1-020-01.jpg', 'm-032-01.jpg', 'm-041-01.jpg', 'm-063-01.jpg', 'm1-041-01.jpg', 'f-030-01.jpg', 'm-049-01.jpg', 'm1-028-01.jpg', 'm1-037-01.jpg', 'm-066-01.jpg', 'f-042-01.jpg', 'f-008-01.jpg', 'm1-010-01.jpg', 'm-078-01.jpg', 'f-024-01.jpg', 'f1-004-01.jpg', 'm1-013-01.jpg', 'f-028-01.jpg', 'm-065-01.jpg', 'm-085-01.jpg', 'm-073-01.jpg', 'm-042-01.jpg', 'm-101-01.jpg', 'm-051-01.jpg', 'm1-003-01.jpg', 'm1-017-01.jpg', 'm1-004-01.jpg', 'f-040-01.jpg', 'f1-001-01.jpg', 'm1-023-01.jpg', 'm-016-01.jpg', 'm-059-01.jpg', 'm1-001-01.jpg', 'm-015-01.jpg', 'm-060-01.jpg', 'm1-029-01.jpg', 'm-043-01.jpg', 'm1-036-01.jpg', 'm-047-01.jpg', 'm-092-01.jpg', 'm-048-01.jpg', 'f1-002-01.jpg', 'f1-015-01.jpg', 'm-025-01.jpg', 'f-018-01.jpg', 'm-071-01.jpg', 'm-046-01.jpg', 'f-033-01.jpg', 'm-097-01.jpg', 'f-005-01.jpg', 'm-038-01.jpg', 'm-050-01.jpg', 'm-029-01.jpg', 'm1-024-01.jpg', 'm-012-01.jpg', 'f1-012-01.jpg', 'f-013-01.jpg', 'm-054-01.jpg', 'm-024-01.jpg', 'm1-012-01.jpg', 'f-009-01.jpg', 'm1-019-01.jpg', 'm-033-01.jpg', 'm-080-01.jpg', 'm-027-01.jpg', 'm-039-01.jpg', 'm-052-01.jpg', 'm-087-01.jpg', 'm-086-01.jpg', 'm1-025-01.jpg', 'm1-032-01.jpg', 'm-057-01.jpg', 'm-077-01.jpg', 'm-040-01.jpg', 'f1-003-01.jpg', 'm-098-01.jpg', 'm-079-01.jpg', 'm-061-01.jpg', 'f-035-01.jpg', 'm-023-01.jpg', 'm1-030-01.jpg', 'm-083-01.jpg', 'f1-007-01.jpg', 'f-036-01.jpg', 'm-084-01.jpg', 'f-025-01.jpg', 'm1-040-01.jpg', 'm-019-01.jpg', 'm-014-01.jpg', 'f-038-01.jpg', 'm1-035-01.jpg', 'm1-009-01.jpg', 'm-022-01.jpg', 'm-008-01.jpg', 'f1-006-01.jpg', 'm1-038-01.jpg', 'm-072-01.jpg', 'f-021-01.jpg', 'f-014-01.jpg', 'f-006-01.jpg', 'm-034-01.jpg', 'f-023-01.jpg', 'm-053-01.jpg', 'f1-010-01.jpg', 'm-088-01.jpg', 'm-035-01.jpg', 'f-031-01.jpg', 'm-070-01.jpg', 'f-041-01.jpg', 'm-013-01.jpg', 'm-075-01.jpg', 'm1-015-01.jpg', 'm1-039-01.jpg', 'f-039-01.jpg', 'm-011-01.jpg', 'f-019-01.jpg', 'f1-005-01.jpg', 'f-043-01.jpg', 'm-017-01.jpg', 'm-064-01.jpg', 'm-067-01.jpg', 'm-056-01.jpg', 'm1-008-01.jpg', 'm1-016-01.jpg', 'm-062-01.jpg', 'f-029-01.jpg']\n",
            "188\n"
          ]
        }
      ],
      "source": [
        "print(files_in_photos)\n",
        "print(len(files_in_photos))"
      ]
    },
    {
      "cell_type": "code",
      "execution_count": 72,
      "metadata": {
        "id": "3cTCT4kSyzK6"
      },
      "outputs": [],
      "source": [
        "import cv2\n",
        "import numpy as np\n",
        "\n",
        "def preprocess_images(image_paths):\n",
        "\n",
        "    images = []\n",
        "    labels = []\n",
        "\n",
        "    for image_path in image_paths:\n",
        "        #imagem em RGB\n",
        "        image = cv2.imread(image_path, cv2.IMREAD_COLOR)\n",
        "\n",
        "        if image is None:\n",
        "            print(f\"Erro ao carregar a imagem: {image_path}\")\n",
        "            continue\n",
        "\n",
        "        #250x200 (altura x largura)\n",
        "        image_resized = cv2.resize(image, (200, 250))\n",
        "\n",
        "        #normalização [0,1]\n",
        "        image_normalized = image_resized / 255.0\n",
        "\n",
        "        #adiciona a lista\n",
        "        images.append(image_normalized)\n",
        "\n",
        "    label = [0 if file.startswith(('m', 'm1')) else 1 for file in files_in_photos]\n",
        "    labels.append(label)\n",
        "\n",
        "    images = np.array(images)\n",
        "    labels = np.array(labels)\n",
        "\n",
        "    return images, labels\n"
      ]
    },
    {
      "cell_type": "code",
      "execution_count": 73,
      "metadata": {
        "colab": {
          "base_uri": "https://localhost:8080/"
        },
        "id": "lRHNBs-Vx6wt",
        "outputId": "e26019ce-0b22-444e-99ed-71daec014ad3"
      },
      "outputs": [
        {
          "output_type": "stream",
          "name": "stdout",
          "text": [
            "Número de imagens: 188\n",
            "Número de rótulos: 188\n",
            "Formato de uma imagem: (250, 200, 3)\n",
            "rótulo: [1 1 0 0 0 0 0 0 1 0 1 1 0 0 0 0 1 0 0 1 0 1 0 1 0 0 1 0 0 0 1 1 1 0 0 1 0\n",
            " 0 1 0 0 0 0 0 0 0 0 0 0 0 1 0 0 1 1 0 0 0 0 0 1 0 0 0 0 0 0 1 0 0 0 0 1 1\n",
            " 0 0 1 1 0 1 0 0 0 0 0 0 0 0 0 1 1 0 0 0 0 0 0 0 0 0 0 0 0 1 1 0 1 0 0 1 0\n",
            " 1 0 0 0 0 0 1 1 0 0 0 1 0 0 0 0 0 0 0 0 0 0 0 0 0 1 0 0 0 1 0 0 0 1 1 0 1\n",
            " 0 0 0 1 0 0 0 0 1 0 0 1 1 1 0 1 0 1 0 0 1 0 1 0 0 0 0 1 0 1 1 1 0 0 0 0 0\n",
            " 0 0 1]\n"
          ]
        }
      ],
      "source": [
        "import os\n",
        "\n",
        "#caminho para a pasta das imagens\n",
        "image_folder = \"photos\"\n",
        "image_paths = [os.path.join(image_folder, file) for file in os.listdir(image_folder) if file.endswith(('.jpg', '.png'))]\n",
        "\n",
        "#pré-processa as imagens\n",
        "images, labels = preprocess_images(image_paths)\n",
        "\n",
        "print(f\"Número de imagens: {len(images)}\")\n",
        "print(f\"Número de rótulos: {len(labels[0])}\")\n",
        "print(f\"Formato de uma imagem: {images[0].shape}\")\n",
        "print(f\"rótulo: {labels[0]}\")\n"
      ]
    },
    {
      "cell_type": "code",
      "execution_count": 74,
      "metadata": {
        "colab": {
          "base_uri": "https://localhost:8080/"
        },
        "id": "sF5j0rlN3Qbm",
        "outputId": "aa5b27c9-c3d8-4f99-a8d5-3c674f14a2f8"
      },
      "outputs": [
        {
          "output_type": "stream",
          "name": "stdout",
          "text": [
            "Counter({0: 134, 1: 54})\n",
            "Label com mais exemplos: [(0, 134)]\n",
            "Label com menos exemplos: (1, 54)\n"
          ]
        }
      ],
      "source": [
        "from collections import Counter\n",
        "\n",
        "#visualizando como está a quantidade de faces (masculino x feminino)\n",
        "label_counts = Counter(labels[0])\n",
        "\n",
        "print(label_counts)  #exemplos por label\n",
        "\n",
        "\n",
        "most_common_label = label_counts.most_common(1)  #mais exemplos\n",
        "least_common_label = label_counts.most_common()[-1]  #menos exemplos\n",
        "\n",
        "print(f\"Label com mais exemplos: {most_common_label}\")\n",
        "print(f\"Label com menos exemplos: {least_common_label}\")"
      ]
    },
    {
      "cell_type": "code",
      "execution_count": 75,
      "metadata": {
        "id": "tcXirvkjJO99"
      },
      "outputs": [],
      "source": [
        "from imblearn.over_sampling import SMOTE\n",
        "\n",
        "#achatar as imagens para 2D\n",
        "images_reshaped = images.reshape(images.shape[0], -1)\n",
        "\n",
        "#inicializar o SMOTE\n",
        "smote = SMOTE(sampling_strategy='auto')\n",
        "\n",
        "#over-sampling\n",
        "X_res, y_res = smote.fit_resample(images_reshaped, labels[0])\n",
        "\n",
        "#voltando para o formato original\n",
        "X_res_reshaped = X_res.reshape(X_res.shape[0], images.shape[1], images.shape[2], images.shape[3])\n"
      ]
    },
    {
      "cell_type": "code",
      "execution_count": 76,
      "metadata": {
        "id": "DRxnqG4X1lia"
      },
      "outputs": [],
      "source": [
        "from sklearn.model_selection import train_test_split\n",
        "\n",
        "def split_data(images, labels, train_ratio=0.5, val_ratio=0.3, test_ratio=0.2):\n",
        "    if train_ratio + val_ratio + test_ratio != 1.0:\n",
        "        raise ValueError(\"proporções de divisao devem somar 1.0\")\n",
        "\n",
        "    #dividir em treinamento e uma parte temporária\n",
        "    train_images, temp_images, train_labels, temp_labels = train_test_split(\n",
        "        images, labels, test_size=(val_ratio + test_ratio), random_state=23\n",
        "    )\n",
        "\n",
        "    #usar a parte temporária para validação e teste\n",
        "    val_images, test_images, val_labels, test_labels = train_test_split(\n",
        "        temp_images, temp_labels, test_size=test_ratio / (val_ratio + test_ratio), random_state=23\n",
        "    )\n",
        "\n",
        "    return train_images, train_labels, val_images, val_labels, test_images, test_labels\n"
      ]
    },
    {
      "cell_type": "code",
      "execution_count": 77,
      "metadata": {
        "id": "wa9hClxZ1nXF"
      },
      "outputs": [],
      "source": [
        "train_images, train_labels, val_images, val_labels, test_images, test_labels = split_data(X_res_reshaped, y_res)  #dividindo em treinamento, teste e validacao"
      ]
    },
    {
      "cell_type": "code",
      "execution_count": 78,
      "metadata": {
        "colab": {
          "base_uri": "https://localhost:8080/"
        },
        "id": "AMOYRxGJ40wH",
        "outputId": "88f7da4c-8bb7-4eae-fb0d-0431e5d9012c"
      },
      "outputs": [
        {
          "output_type": "stream",
          "name": "stdout",
          "text": [
            "(134, 250, 200, 3) (134,)\n",
            "(54, 250, 200, 3) (54,)\n",
            "(80, 250, 200, 3) (80,)\n"
          ]
        }
      ],
      "source": [
        "print(train_images.shape, train_labels.shape)\n",
        "print(test_images.shape, test_labels.shape)\n",
        "print(val_images.shape, val_labels.shape)\n"
      ]
    },
    {
      "cell_type": "code",
      "execution_count": 79,
      "metadata": {
        "colab": {
          "base_uri": "https://localhost:8080/",
          "height": 558
        },
        "id": "2fL952Ze5hzW",
        "outputId": "ad1219b6-71ec-49bc-98d6-af58dd3f4ff0"
      },
      "outputs": [
        {
          "output_type": "stream",
          "name": "stderr",
          "text": [
            "/usr/local/lib/python3.10/dist-packages/keras/src/layers/convolutional/base_conv.py:107: UserWarning: Do not pass an `input_shape`/`input_dim` argument to a layer. When using Sequential models, prefer using an `Input(shape)` object as the first layer in the model instead.\n",
            "  super().__init__(activity_regularizer=activity_regularizer, **kwargs)\n"
          ]
        },
        {
          "output_type": "display_data",
          "data": {
            "text/plain": [
              "\u001b[1mModel: \"sequential_6\"\u001b[0m\n"
            ],
            "text/html": [
              "<pre style=\"white-space:pre;overflow-x:auto;line-height:normal;font-family:Menlo,'DejaVu Sans Mono',consolas,'Courier New',monospace\"><span style=\"font-weight: bold\">Model: \"sequential_6\"</span>\n",
              "</pre>\n"
            ]
          },
          "metadata": {}
        },
        {
          "output_type": "display_data",
          "data": {
            "text/plain": [
              "┏━━━━━━━━━━━━━━━━━━━━━━━━━━━━━━━━━━━━━━┳━━━━━━━━━━━━━━━━━━━━━━━━━━━━━┳━━━━━━━━━━━━━━━━━┓\n",
              "┃\u001b[1m \u001b[0m\u001b[1mLayer (type)                        \u001b[0m\u001b[1m \u001b[0m┃\u001b[1m \u001b[0m\u001b[1mOutput Shape               \u001b[0m\u001b[1m \u001b[0m┃\u001b[1m \u001b[0m\u001b[1m        Param #\u001b[0m\u001b[1m \u001b[0m┃\n",
              "┡━━━━━━━━━━━━━━━━━━━━━━━━━━━━━━━━━━━━━━╇━━━━━━━━━━━━━━━━━━━━━━━━━━━━━╇━━━━━━━━━━━━━━━━━┩\n",
              "│ conv2d_18 (\u001b[38;5;33mConv2D\u001b[0m)                   │ (\u001b[38;5;45mNone\u001b[0m, \u001b[38;5;34m250\u001b[0m, \u001b[38;5;34m200\u001b[0m, \u001b[38;5;34m32\u001b[0m)        │             \u001b[38;5;34m896\u001b[0m │\n",
              "├──────────────────────────────────────┼─────────────────────────────┼─────────────────┤\n",
              "│ max_pooling2d_18 (\u001b[38;5;33mMaxPooling2D\u001b[0m)      │ (\u001b[38;5;45mNone\u001b[0m, \u001b[38;5;34m125\u001b[0m, \u001b[38;5;34m100\u001b[0m, \u001b[38;5;34m32\u001b[0m)        │               \u001b[38;5;34m0\u001b[0m │\n",
              "├──────────────────────────────────────┼─────────────────────────────┼─────────────────┤\n",
              "│ conv2d_19 (\u001b[38;5;33mConv2D\u001b[0m)                   │ (\u001b[38;5;45mNone\u001b[0m, \u001b[38;5;34m125\u001b[0m, \u001b[38;5;34m100\u001b[0m, \u001b[38;5;34m64\u001b[0m)        │          \u001b[38;5;34m18,496\u001b[0m │\n",
              "├──────────────────────────────────────┼─────────────────────────────┼─────────────────┤\n",
              "│ max_pooling2d_19 (\u001b[38;5;33mMaxPooling2D\u001b[0m)      │ (\u001b[38;5;45mNone\u001b[0m, \u001b[38;5;34m63\u001b[0m, \u001b[38;5;34m50\u001b[0m, \u001b[38;5;34m64\u001b[0m)          │               \u001b[38;5;34m0\u001b[0m │\n",
              "├──────────────────────────────────────┼─────────────────────────────┼─────────────────┤\n",
              "│ conv2d_20 (\u001b[38;5;33mConv2D\u001b[0m)                   │ (\u001b[38;5;45mNone\u001b[0m, \u001b[38;5;34m63\u001b[0m, \u001b[38;5;34m50\u001b[0m, \u001b[38;5;34m128\u001b[0m)         │          \u001b[38;5;34m73,856\u001b[0m │\n",
              "├──────────────────────────────────────┼─────────────────────────────┼─────────────────┤\n",
              "│ max_pooling2d_20 (\u001b[38;5;33mMaxPooling2D\u001b[0m)      │ (\u001b[38;5;45mNone\u001b[0m, \u001b[38;5;34m32\u001b[0m, \u001b[38;5;34m25\u001b[0m, \u001b[38;5;34m128\u001b[0m)         │               \u001b[38;5;34m0\u001b[0m │\n",
              "├──────────────────────────────────────┼─────────────────────────────┼─────────────────┤\n",
              "│ dropout_12 (\u001b[38;5;33mDropout\u001b[0m)                 │ (\u001b[38;5;45mNone\u001b[0m, \u001b[38;5;34m32\u001b[0m, \u001b[38;5;34m25\u001b[0m, \u001b[38;5;34m128\u001b[0m)         │               \u001b[38;5;34m0\u001b[0m │\n",
              "├──────────────────────────────────────┼─────────────────────────────┼─────────────────┤\n",
              "│ flatten_6 (\u001b[38;5;33mFlatten\u001b[0m)                  │ (\u001b[38;5;45mNone\u001b[0m, \u001b[38;5;34m102400\u001b[0m)              │               \u001b[38;5;34m0\u001b[0m │\n",
              "├──────────────────────────────────────┼─────────────────────────────┼─────────────────┤\n",
              "│ dense_6 (\u001b[38;5;33mDense\u001b[0m)                      │ (\u001b[38;5;45mNone\u001b[0m, \u001b[38;5;34m256\u001b[0m)                 │      \u001b[38;5;34m26,214,656\u001b[0m │\n",
              "├──────────────────────────────────────┼─────────────────────────────┼─────────────────┤\n",
              "│ dropout_13 (\u001b[38;5;33mDropout\u001b[0m)                 │ (\u001b[38;5;45mNone\u001b[0m, \u001b[38;5;34m256\u001b[0m)                 │               \u001b[38;5;34m0\u001b[0m │\n",
              "├──────────────────────────────────────┼─────────────────────────────┼─────────────────┤\n",
              "│ preds (\u001b[38;5;33mDense\u001b[0m)                        │ (\u001b[38;5;45mNone\u001b[0m, \u001b[38;5;34m1\u001b[0m)                   │             \u001b[38;5;34m257\u001b[0m │\n",
              "└──────────────────────────────────────┴─────────────────────────────┴─────────────────┘\n"
            ],
            "text/html": [
              "<pre style=\"white-space:pre;overflow-x:auto;line-height:normal;font-family:Menlo,'DejaVu Sans Mono',consolas,'Courier New',monospace\">┏━━━━━━━━━━━━━━━━━━━━━━━━━━━━━━━━━━━━━━┳━━━━━━━━━━━━━━━━━━━━━━━━━━━━━┳━━━━━━━━━━━━━━━━━┓\n",
              "┃<span style=\"font-weight: bold\"> Layer (type)                         </span>┃<span style=\"font-weight: bold\"> Output Shape                </span>┃<span style=\"font-weight: bold\">         Param # </span>┃\n",
              "┡━━━━━━━━━━━━━━━━━━━━━━━━━━━━━━━━━━━━━━╇━━━━━━━━━━━━━━━━━━━━━━━━━━━━━╇━━━━━━━━━━━━━━━━━┩\n",
              "│ conv2d_18 (<span style=\"color: #0087ff; text-decoration-color: #0087ff\">Conv2D</span>)                   │ (<span style=\"color: #00d7ff; text-decoration-color: #00d7ff\">None</span>, <span style=\"color: #00af00; text-decoration-color: #00af00\">250</span>, <span style=\"color: #00af00; text-decoration-color: #00af00\">200</span>, <span style=\"color: #00af00; text-decoration-color: #00af00\">32</span>)        │             <span style=\"color: #00af00; text-decoration-color: #00af00\">896</span> │\n",
              "├──────────────────────────────────────┼─────────────────────────────┼─────────────────┤\n",
              "│ max_pooling2d_18 (<span style=\"color: #0087ff; text-decoration-color: #0087ff\">MaxPooling2D</span>)      │ (<span style=\"color: #00d7ff; text-decoration-color: #00d7ff\">None</span>, <span style=\"color: #00af00; text-decoration-color: #00af00\">125</span>, <span style=\"color: #00af00; text-decoration-color: #00af00\">100</span>, <span style=\"color: #00af00; text-decoration-color: #00af00\">32</span>)        │               <span style=\"color: #00af00; text-decoration-color: #00af00\">0</span> │\n",
              "├──────────────────────────────────────┼─────────────────────────────┼─────────────────┤\n",
              "│ conv2d_19 (<span style=\"color: #0087ff; text-decoration-color: #0087ff\">Conv2D</span>)                   │ (<span style=\"color: #00d7ff; text-decoration-color: #00d7ff\">None</span>, <span style=\"color: #00af00; text-decoration-color: #00af00\">125</span>, <span style=\"color: #00af00; text-decoration-color: #00af00\">100</span>, <span style=\"color: #00af00; text-decoration-color: #00af00\">64</span>)        │          <span style=\"color: #00af00; text-decoration-color: #00af00\">18,496</span> │\n",
              "├──────────────────────────────────────┼─────────────────────────────┼─────────────────┤\n",
              "│ max_pooling2d_19 (<span style=\"color: #0087ff; text-decoration-color: #0087ff\">MaxPooling2D</span>)      │ (<span style=\"color: #00d7ff; text-decoration-color: #00d7ff\">None</span>, <span style=\"color: #00af00; text-decoration-color: #00af00\">63</span>, <span style=\"color: #00af00; text-decoration-color: #00af00\">50</span>, <span style=\"color: #00af00; text-decoration-color: #00af00\">64</span>)          │               <span style=\"color: #00af00; text-decoration-color: #00af00\">0</span> │\n",
              "├──────────────────────────────────────┼─────────────────────────────┼─────────────────┤\n",
              "│ conv2d_20 (<span style=\"color: #0087ff; text-decoration-color: #0087ff\">Conv2D</span>)                   │ (<span style=\"color: #00d7ff; text-decoration-color: #00d7ff\">None</span>, <span style=\"color: #00af00; text-decoration-color: #00af00\">63</span>, <span style=\"color: #00af00; text-decoration-color: #00af00\">50</span>, <span style=\"color: #00af00; text-decoration-color: #00af00\">128</span>)         │          <span style=\"color: #00af00; text-decoration-color: #00af00\">73,856</span> │\n",
              "├──────────────────────────────────────┼─────────────────────────────┼─────────────────┤\n",
              "│ max_pooling2d_20 (<span style=\"color: #0087ff; text-decoration-color: #0087ff\">MaxPooling2D</span>)      │ (<span style=\"color: #00d7ff; text-decoration-color: #00d7ff\">None</span>, <span style=\"color: #00af00; text-decoration-color: #00af00\">32</span>, <span style=\"color: #00af00; text-decoration-color: #00af00\">25</span>, <span style=\"color: #00af00; text-decoration-color: #00af00\">128</span>)         │               <span style=\"color: #00af00; text-decoration-color: #00af00\">0</span> │\n",
              "├──────────────────────────────────────┼─────────────────────────────┼─────────────────┤\n",
              "│ dropout_12 (<span style=\"color: #0087ff; text-decoration-color: #0087ff\">Dropout</span>)                 │ (<span style=\"color: #00d7ff; text-decoration-color: #00d7ff\">None</span>, <span style=\"color: #00af00; text-decoration-color: #00af00\">32</span>, <span style=\"color: #00af00; text-decoration-color: #00af00\">25</span>, <span style=\"color: #00af00; text-decoration-color: #00af00\">128</span>)         │               <span style=\"color: #00af00; text-decoration-color: #00af00\">0</span> │\n",
              "├──────────────────────────────────────┼─────────────────────────────┼─────────────────┤\n",
              "│ flatten_6 (<span style=\"color: #0087ff; text-decoration-color: #0087ff\">Flatten</span>)                  │ (<span style=\"color: #00d7ff; text-decoration-color: #00d7ff\">None</span>, <span style=\"color: #00af00; text-decoration-color: #00af00\">102400</span>)              │               <span style=\"color: #00af00; text-decoration-color: #00af00\">0</span> │\n",
              "├──────────────────────────────────────┼─────────────────────────────┼─────────────────┤\n",
              "│ dense_6 (<span style=\"color: #0087ff; text-decoration-color: #0087ff\">Dense</span>)                      │ (<span style=\"color: #00d7ff; text-decoration-color: #00d7ff\">None</span>, <span style=\"color: #00af00; text-decoration-color: #00af00\">256</span>)                 │      <span style=\"color: #00af00; text-decoration-color: #00af00\">26,214,656</span> │\n",
              "├──────────────────────────────────────┼─────────────────────────────┼─────────────────┤\n",
              "│ dropout_13 (<span style=\"color: #0087ff; text-decoration-color: #0087ff\">Dropout</span>)                 │ (<span style=\"color: #00d7ff; text-decoration-color: #00d7ff\">None</span>, <span style=\"color: #00af00; text-decoration-color: #00af00\">256</span>)                 │               <span style=\"color: #00af00; text-decoration-color: #00af00\">0</span> │\n",
              "├──────────────────────────────────────┼─────────────────────────────┼─────────────────┤\n",
              "│ preds (<span style=\"color: #0087ff; text-decoration-color: #0087ff\">Dense</span>)                        │ (<span style=\"color: #00d7ff; text-decoration-color: #00d7ff\">None</span>, <span style=\"color: #00af00; text-decoration-color: #00af00\">1</span>)                   │             <span style=\"color: #00af00; text-decoration-color: #00af00\">257</span> │\n",
              "└──────────────────────────────────────┴─────────────────────────────┴─────────────────┘\n",
              "</pre>\n"
            ]
          },
          "metadata": {}
        },
        {
          "output_type": "display_data",
          "data": {
            "text/plain": [
              "\u001b[1m Total params: \u001b[0m\u001b[38;5;34m26,308,161\u001b[0m (100.36 MB)\n"
            ],
            "text/html": [
              "<pre style=\"white-space:pre;overflow-x:auto;line-height:normal;font-family:Menlo,'DejaVu Sans Mono',consolas,'Courier New',monospace\"><span style=\"font-weight: bold\"> Total params: </span><span style=\"color: #00af00; text-decoration-color: #00af00\">26,308,161</span> (100.36 MB)\n",
              "</pre>\n"
            ]
          },
          "metadata": {}
        },
        {
          "output_type": "display_data",
          "data": {
            "text/plain": [
              "\u001b[1m Trainable params: \u001b[0m\u001b[38;5;34m26,308,161\u001b[0m (100.36 MB)\n"
            ],
            "text/html": [
              "<pre style=\"white-space:pre;overflow-x:auto;line-height:normal;font-family:Menlo,'DejaVu Sans Mono',consolas,'Courier New',monospace\"><span style=\"font-weight: bold\"> Trainable params: </span><span style=\"color: #00af00; text-decoration-color: #00af00\">26,308,161</span> (100.36 MB)\n",
              "</pre>\n"
            ]
          },
          "metadata": {}
        },
        {
          "output_type": "display_data",
          "data": {
            "text/plain": [
              "\u001b[1m Non-trainable params: \u001b[0m\u001b[38;5;34m0\u001b[0m (0.00 B)\n"
            ],
            "text/html": [
              "<pre style=\"white-space:pre;overflow-x:auto;line-height:normal;font-family:Menlo,'DejaVu Sans Mono',consolas,'Courier New',monospace\"><span style=\"font-weight: bold\"> Non-trainable params: </span><span style=\"color: #00af00; text-decoration-color: #00af00\">0</span> (0.00 B)\n",
              "</pre>\n"
            ]
          },
          "metadata": {}
        }
      ],
      "source": [
        "from tensorflow.keras import models\n",
        "from tensorflow.keras.layers import Conv2D, MaxPooling2D, Dropout, Flatten, Dense\n",
        "from tensorflow.keras.optimizers import Adam\n",
        "\n",
        "#parâmetros do modelo\n",
        "IMG_HEIGHT = 250  #altura das imagens\n",
        "IMG_WIDTH = 200   #largura das imagens\n",
        "DIMENSION = 3     #imagens em rgb\n",
        "NUM_CLASSES = 1   #única saída 0 ou 1\n",
        "\n",
        "\n",
        "model = models.Sequential()\n",
        "\n",
        "#primeira camada convolucional + maxPooling\n",
        "model.add(Conv2D(filters=32, kernel_size=3, strides=1, padding='same',\n",
        "                 input_shape=(IMG_HEIGHT, IMG_WIDTH, DIMENSION), activation='relu'))\n",
        "model.add(MaxPooling2D(pool_size=2, padding='same'))\n",
        "\n",
        "#segunda camada convolucional + maxPooling\n",
        "model.add(Conv2D(filters=64, kernel_size=3, strides=1, padding='same', activation='relu'))\n",
        "model.add(MaxPooling2D(pool_size=2, padding='same'))\n",
        "\n",
        "#terceira camada convolucional + maxPooling\n",
        "model.add(Conv2D(filters=128, kernel_size=3, strides=1, padding='same', activation='relu'))\n",
        "model.add(MaxPooling2D(pool_size=2, padding='same'))\n",
        "\n",
        "#dropout e flatten\n",
        "model.add(Dropout(rate=0.5))\n",
        "model.add(Flatten())\n",
        "\n",
        "#camada totalmente conectada (densa) com saída binária\n",
        "model.add(Dense(256, activation='relu'))  #intermediária\n",
        "model.add(Dropout(rate=0.5))  #dropout\n",
        "model.add(Dense(NUM_CLASSES, activation='sigmoid', name='preds'))  #saída para classificação binária\n",
        "\n",
        "#compilando o modelo c adam\n",
        "optimizer = Adam(learning_rate=1e-3)\n",
        "\n",
        "model.compile(optimizer=optimizer,\n",
        "              loss='binary_crossentropy',  #usado em classificação binária\n",
        "              metrics=['accuracy'])\n",
        "\n",
        "#modelo\n",
        "model.summary()\n"
      ]
    },
    {
      "cell_type": "code",
      "execution_count": null,
      "metadata": {
        "colab": {
          "base_uri": "https://localhost:8080/"
        },
        "id": "LlH0VMV75XcP",
        "outputId": "6bb80e52-e34f-4053-c5c7-33e175ca2288"
      },
      "outputs": [
        {
          "output_type": "stream",
          "name": "stdout",
          "text": [
            "Epoch 1/15\n",
            "\u001b[1m9/9\u001b[0m \u001b[32m━━━━━━━━━━━━━━━━━━━━\u001b[0m\u001b[37m\u001b[0m \u001b[1m0s\u001b[0m 4s/step - accuracy: 0.5523 - loss: 1.3876\n",
            "[F1-Score: 0.6441] [AUC-ROC: 0.9160]\n",
            "\u001b[1m9/9\u001b[0m \u001b[32m━━━━━━━━━━━━━━━━━━━━\u001b[0m\u001b[37m\u001b[0m \u001b[1m53s\u001b[0m 5s/step - accuracy: 0.5516 - loss: 1.3635 - val_accuracy: 0.4750 - val_loss: 0.6821\n",
            "Epoch 2/15\n",
            "\u001b[1m9/9\u001b[0m \u001b[32m━━━━━━━━━━━━━━━━━━━━\u001b[0m\u001b[37m\u001b[0m \u001b[1m0s\u001b[0m 3s/step - accuracy: 0.5786 - loss: 0.6673\n",
            "[F1-Score: 0.7761] [AUC-ROC: 0.9317]\n",
            "\u001b[1m9/9\u001b[0m \u001b[32m━━━━━━━━━━━━━━━━━━━━\u001b[0m\u001b[37m\u001b[0m \u001b[1m69s\u001b[0m 4s/step - accuracy: 0.5834 - loss: 0.6658 - val_accuracy: 0.8125 - val_loss: 0.5216\n",
            "Epoch 3/15\n",
            "\u001b[1m9/9\u001b[0m \u001b[32m━━━━━━━━━━━━━━━━━━━━\u001b[0m\u001b[37m\u001b[0m \u001b[1m0s\u001b[0m 2s/step - accuracy: 0.8305 - loss: 0.4503\n",
            "[F1-Score: 0.8451] [AUC-ROC: 0.9417]\n",
            "\u001b[1m9/9\u001b[0m \u001b[32m━━━━━━━━━━━━━━━━━━━━\u001b[0m\u001b[37m\u001b[0m \u001b[1m36s\u001b[0m 3s/step - accuracy: 0.8310 - loss: 0.4454 - val_accuracy: 0.8625 - val_loss: 0.3489\n",
            "Epoch 4/15\n",
            "\u001b[1m5/9\u001b[0m \u001b[32m━━━━━━━━━━━\u001b[0m\u001b[37m━━━━━━━━━\u001b[0m \u001b[1m9s\u001b[0m 2s/step - accuracy: 0.8821 - loss: 0.2252 "
          ]
        }
      ],
      "source": [
        "import numpy as np\n",
        "from sklearn.metrics import f1_score, roc_auc_score, roc_curve\n",
        "from keras.callbacks import Callback\n",
        "\n",
        "#callback personalizado para calcular métricas de validação\n",
        "class MetricsCallback(Callback):\n",
        "    def __init__(self, validation_data):\n",
        "        super().__init__()\n",
        "        self.validation_data = validation_data\n",
        "\n",
        "    def on_epoch_end(self, epoch, logs=None):\n",
        "        val_images, val_labels = self.validation_data\n",
        "\n",
        "\n",
        "        val_predictions = self.model.predict(val_images, verbose=0)\n",
        "        val_predictions_binary = (val_predictions > 0.5).astype(int)  #pra classificação binária\n",
        "\n",
        "        #calculando f1 geral e aucroc\n",
        "        f1 = f1_score(val_labels, val_predictions_binary, average='binary')\n",
        "        auc = roc_auc_score(val_labels, val_predictions)\n",
        "\n",
        "\n",
        "        print(f'\\n[F1-Score: {f1:.4f}] [AUC-ROC: {auc:.4f}]')\n",
        "\n",
        "\n",
        "#adcionando o callback de métricas\n",
        "metrics_callback = MetricsCallback(validation_data=(val_images, val_labels))\n",
        "\n",
        "#treinando\n",
        "history = model.fit(\n",
        "    train_images, train_labels,\n",
        "    validation_data=(val_images, val_labels),  #avaliando no treinamento\n",
        "    batch_size=16,\n",
        "    epochs=15,\n",
        "    verbose=1,\n",
        "    callbacks=[metrics_callback]  #callback\n",
        ")\n"
      ]
    },
    {
      "cell_type": "code",
      "execution_count": null,
      "metadata": {
        "id": "yI-gdIsDA5NQ"
      },
      "outputs": [],
      "source": [
        "from sklearn.metrics import classification_report, roc_curve, auc\n",
        "import numpy as np\n",
        "import matplotlib.pyplot as plt\n",
        "\n",
        "#avaliando o modelo e   previsões\n",
        "test_loss, test_accuracy = model.evaluate(test_images, test_labels)\n",
        "pred_probs = model.predict(test_images)\n",
        "\n",
        "\n",
        "pred_classes = (pred_probs > 0.5).astype(int)  #classes preditas\n",
        "true_classes = test_labels  #classes verdadeira\n",
        "\n",
        "\n",
        "print(f\"Acurácia no conjunto de teste: {test_accuracy * 100:.2f}%\")\n",
        "\n",
        "#F1-Score\n",
        "report = classification_report(true_classes, pred_classes, target_names=['0', '1'])\n",
        "print(\"Relatório de classificação (F1-Score):\")\n",
        "print(report)\n",
        "\n",
        "#roc e auc-roc\n",
        "fpr, tpr, _ = roc_curve(true_classes, pred_probs)\n",
        "roc_auc = auc(fpr, tpr)\n",
        "print(f\"AUC-ROC = {roc_auc:.2f}\")\n",
        "\n",
        "#plotando curva ROC\n",
        "plt.figure()\n",
        "plt.plot(fpr, tpr, label=f'AUC = {roc_auc:.2f}')\n",
        "plt.plot([0, 1], [0, 1], 'k--')\n",
        "plt.xlabel('taxa de falsos positivos (FPR)')\n",
        "plt.ylabel('taxa de verdadeiros positivos (TPR)')\n",
        "plt.title('Curva ROC')\n",
        "plt.legend(loc='lower right')\n",
        "plt.show()\n"
      ]
    },
    {
      "cell_type": "code",
      "source": [
        "from sklearn.metrics import confusion_matrix\n",
        "import seaborn as sns\n",
        "import matplotlib.pyplot as plt\n",
        "import numpy as np\n",
        "\n",
        "\n",
        "cm = confusion_matrix(true_classes, pred_classes)\n",
        "\n",
        "#plotar a matriz de confusão\n",
        "plt.figure(figsize=(6, 5))\n",
        "sns.heatmap(cm, annot=True, fmt=\"d\", cmap=\"Blues\", xticklabels=['Mulher', 'Homem'], yticklabels=['Mulher', 'Homem'])\n",
        "plt.xlabel('Predito')\n",
        "plt.ylabel('Real')\n",
        "plt.title('Matriz de Confusão')\n",
        "plt.show()"
      ],
      "metadata": {
        "id": "M7fDJxyh7IxC"
      },
      "execution_count": null,
      "outputs": []
    },
    {
      "cell_type": "code",
      "source": [
        "#ANALISANDO QUAIS IMAGENS FORAM CLASSIFICADOS ERRONEAMENTE\n",
        "\n",
        "pred_classes = pred_classes.flatten()\n",
        "true_classes = true_classes.flatten()\n",
        "\n",
        "\n",
        "print(f\"Forma das previsões: {pred_classes.shape}\")\n",
        "print(f\"Forma das classes reais: {true_classes.shape}\")\n",
        "\n",
        "#previsões erradas\n",
        "incorrect_indices = np.where(pred_classes != true_classes)[0]  # Extrair os índices da tupla\n",
        "\n",
        "\n",
        "print(f\"Existem {len(incorrect_indices)} exemplos errados.\")\n",
        "\n",
        "#imagens classificadas erroneamente\n",
        "for i in incorrect_indices:\n",
        "    image = test_images[i]\n",
        "\n",
        "    image = image[..., ::-1]\n",
        "\n",
        "    plt.imshow(image)\n",
        "    plt.title(f\"Classe Real: {test_labels[i]}, Classe Predita: {pred_classes[i]}\")\n",
        "    plt.axis('off')\n",
        "    plt.show()"
      ],
      "metadata": {
        "id": "KG6VDJKPBdqr"
      },
      "execution_count": null,
      "outputs": []
    }
  ],
  "metadata": {
    "colab": {
      "provenance": [],
      "include_colab_link": true
    },
    "kernelspec": {
      "display_name": "Python 3",
      "name": "python3"
    },
    "language_info": {
      "name": "python"
    }
  },
  "nbformat": 4,
  "nbformat_minor": 0
}